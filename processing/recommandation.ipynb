{
 "cells": [
  {
   "cell_type": "code",
   "execution_count": 538,
   "metadata": {},
   "outputs": [],
   "source": [
    "import pandas as pd\n",
    "\n",
    "\n",
    "\n",
    "# pd.set_option('display.max_colwidth', None)\n",
    "pd.reset_option('display.max_colwidth')\n",
    "\n",
    "data1 = pd.read_csv('../data/appartements1.csv')\n",
    "data2 = pd.read_csv('../data/appartements2.csv')\n",
    "appartements=pd.concat([data1,data2],axis=0,ignore_index=True)\n",
    "df =appartements.copy()\n",
    "\n"
   ]
  },
  {
   "cell_type": "code",
   "execution_count": 539,
   "metadata": {},
   "outputs": [
    {
     "name": "stderr",
     "output_type": "stream",
     "text": [
      "c:\\Users\\Admin\\Desktop\\hp\\Projects\\ML-project\\processing\\preprocessing.py:16: SettingWithCopyWarning: \n",
      "A value is trying to be set on a copy of a slice from a DataFrame.\n",
      "Try using .loc[row_indexer,col_indexer] = value instead\n",
      "\n",
      "See the caveats in the documentation: https://pandas.pydata.org/pandas-docs/stable/user_guide/indexing.html#returning-a-view-versus-a-copy\n",
      "  df['etat'] =df['etat'].str.lower().str.replace(' ','')\n",
      "c:\\Users\\Admin\\Desktop\\hp\\Projects\\ML-project\\processing\\preprocessing.py:17: SettingWithCopyWarning: \n",
      "A value is trying to be set on a copy of a slice from a DataFrame.\n",
      "Try using .loc[row_indexer,col_indexer] = value instead\n",
      "\n",
      "See the caveats in the documentation: https://pandas.pydata.org/pandas-docs/stable/user_guide/indexing.html#returning-a-view-versus-a-copy\n",
      "  df['autre'] =df['autre'].str.lower()\n",
      "c:\\Users\\Admin\\Desktop\\hp\\Projects\\ML-project\\processing\\preprocessing.py:32: SettingWithCopyWarning: \n",
      "A value is trying to be set on a copy of a slice from a DataFrame.\n",
      "Try using .loc[row_indexer,col_indexer] = value instead\n",
      "\n",
      "See the caveats in the documentation: https://pandas.pydata.org/pandas-docs/stable/user_guide/indexing.html#returning-a-view-versus-a-copy\n",
      "  df['ville'] =df['ville'].apply(extractcity)\n",
      "c:\\Users\\Admin\\Desktop\\hp\\Projects\\ML-project\\processing\\preprocessing.py:38: SettingWithCopyWarning: \n",
      "A value is trying to be set on a copy of a slice from a DataFrame.\n",
      "Try using .loc[row_indexer,col_indexer] = value instead\n",
      "\n",
      "See the caveats in the documentation: https://pandas.pydata.org/pandas-docs/stable/user_guide/indexing.html#returning-a-view-versus-a-copy\n",
      "  df[col]=df[col].replace({'Pièces':'','Chambres':'','Salles de bains':'','m²':''},regex=True)\n",
      "c:\\Users\\Admin\\Desktop\\hp\\Projects\\ML-project\\processing\\preprocessing.py:39: SettingWithCopyWarning: \n",
      "A value is trying to be set on a copy of a slice from a DataFrame.\n",
      "Try using .loc[row_indexer,col_indexer] = value instead\n",
      "\n",
      "See the caveats in the documentation: https://pandas.pydata.org/pandas-docs/stable/user_guide/indexing.html#returning-a-view-versus-a-copy\n",
      "  df[col] = pd.to_numeric(df[col], errors='coerce')\n",
      "c:\\Users\\Admin\\Desktop\\hp\\Projects\\ML-project\\processing\\preprocessing.py:55: SettingWithCopyWarning: \n",
      "A value is trying to be set on a copy of a slice from a DataFrame.\n",
      "Try using .loc[row_indexer,col_indexer] = value instead\n",
      "\n",
      "See the caveats in the documentation: https://pandas.pydata.org/pandas-docs/stable/user_guide/indexing.html#returning-a-view-versus-a-copy\n",
      "  df['prix(DHs)'] = df['prix(DHs)'].apply(extractPrix)\n",
      "c:\\Users\\Admin\\Desktop\\hp\\Projects\\ML-project\\processing\\preprocessing.py:60: SettingWithCopyWarning: \n",
      "A value is trying to be set on a copy of a slice from a DataFrame.\n",
      "Try using .loc[row_indexer,col_indexer] = value instead\n",
      "\n",
      "See the caveats in the documentation: https://pandas.pydata.org/pandas-docs/stable/user_guide/indexing.html#returning-a-view-versus-a-copy\n",
      "  df['autre'] = df['autre'].apply(text_cleaning)\n",
      "c:\\Users\\Admin\\Desktop\\hp\\Projects\\ML-project\\processing\\preprocessing.py:62: SettingWithCopyWarning: \n",
      "A value is trying to be set on a copy of a slice from a DataFrame.\n",
      "Try using .loc[row_indexer,col_indexer] = value instead\n",
      "\n",
      "See the caveats in the documentation: https://pandas.pydata.org/pandas-docs/stable/user_guide/indexing.html#returning-a-view-versus-a-copy\n",
      "  df['ans'] = df['ans'].str.replace('Plus de 100','morethan100').str.replace('ans','').str.replace('-','to').str.strip()\n"
     ]
    }
   ],
   "source": [
    "\n",
    "##-pre-processing and preparation of the data \n",
    "from sklearn.model_selection import train_test_split\n",
    "from preprocessing import Preprocessing \n",
    "p =Preprocessing()\n",
    "X,y,vectorize =p.processing(df)\n",
    "X_train,X_test,y_train,y_test=train_test_split(X,y,test_size=.2,random_state=0)\n"
   ]
  },
  {
   "cell_type": "markdown",
   "metadata": {},
   "source": [
    "### Optimisation "
   ]
  },
  {
   "cell_type": "code",
   "execution_count": 540,
   "metadata": {},
   "outputs": [],
   "source": [
    "import pickle\n",
    "\n",
    "file =open('../Models/Stacking.pkl','rb')\n",
    "Stacking =pickle.load(file)\n",
    "\n"
   ]
  },
  {
   "cell_type": "code",
   "execution_count": 541,
   "metadata": {},
   "outputs": [],
   "source": [
    "## Reformation of the dataframe \n",
    "\n",
    "df=pd.concat([X_train,X_test],axis=0)\n",
    "y=pd.concat([y_train,y_test],axis=0)\n",
    "\n",
    "df =pd.concat([df,y],axis=1)\n"
   ]
  },
  {
   "cell_type": "code",
   "execution_count": 542,
   "metadata": {},
   "outputs": [],
   "source": [
    "import pandas as pd\n",
    "data_dict ={'surface(m²)':120,\n",
    "'pieces':3,\n",
    "'chambres':2,\n",
    "'salles de bains':3,\n",
    "'etat':'bonétat',\n",
    "'etage':'3etage',\n",
    "'ans':'10to20',\n",
    "'ville':'oujda',\n",
    "'autre' :'parquet tv'\n",
    "}\n",
    "prediction =pd.DataFrame([data_dict])"
   ]
  },
  {
   "cell_type": "code",
   "execution_count": 543,
   "metadata": {},
   "outputs": [],
   "source": [
    "prediction\n",
    "\n",
    "city=prediction['ville']"
   ]
  },
  {
   "cell_type": "code",
   "execution_count": 544,
   "metadata": {},
   "outputs": [],
   "source": [
    "import numpy as np\n",
    "\n",
    "## this function prepare the value to be predicted \n",
    "def prepare_data_for_prediction(df):\n",
    "    numerica_cols =df.select_dtypes(include=np.number)\n",
    "\n",
    "    df['Description'] = (df['etat'].fillna('') +\" \" +df['etage'].fillna('') +\" \"+\n",
    "                    \" \"+ df['ans'].fillna('') +\" \"+ df['ville'].fillna('') +\" \"+\n",
    "                        df['autre'].fillna('')).str.replace('  ',' ').str.replace('nan','').str.lower().str.strip()\n",
    "    v=df['Description']\n",
    "    pd.set_option('display.max_columns', None)\n",
    "    \n",
    "    ##--apply TF-IDF on the appartment we want to predict the price \n",
    "    X =vectorize.transform(v)\n",
    "    X_tfidf_pred =pd.DataFrame(X.toarray(),columns=vectorize.get_feature_names_out())\n",
    "    numeric_cols_pred =prediction[list(numerica_cols)]\n",
    "    to_predict =pd.concat([numeric_cols_pred,X_tfidf_pred],axis=1)\n",
    "\n",
    "    return to_predict\n"
   ]
  },
  {
   "cell_type": "code",
   "execution_count": 545,
   "metadata": {},
   "outputs": [
    {
     "data": {
      "text/plain": [
       "246"
      ]
     },
     "execution_count": 545,
     "metadata": {},
     "output_type": "execute_result"
    }
   ],
   "source": [
    "len(df.columns)\n",
    "\n",
    "to_predict =prepare_data_for_prediction(prediction)\n",
    "\n",
    "len(to_predict.columns)"
   ]
  },
  {
   "cell_type": "code",
   "execution_count": 546,
   "metadata": {},
   "outputs": [
    {
     "name": "stdout",
     "output_type": "stream",
     "text": [
      "the price of this apartment will be almost: 917576.6653029998 DHs \n"
     ]
    }
   ],
   "source": [
    "from sklearn.metrics.pairwise import cosine_similarity\n",
    "\n",
    "###---calculate the prediction \n",
    "to_predict =prepare_data_for_prediction(prediction)\n",
    "price =Stacking.predict(to_predict)\n",
    "\n",
    "#--- Add predicted price \n",
    "to_predict['prix(DHs)']=price\n",
    "\n",
    "\n",
    "print(f\"the price of this apartment will be almost: {price[0]} DHs \")"
   ]
  },
  {
   "cell_type": "code",
   "execution_count": 547,
   "metadata": {},
   "outputs": [],
   "source": [
    "\n",
    "##-------calculate the similarity by cosine metric\n",
    "df = df[df[city.values[0]]!= 0]\n",
    "similarities = cosine_similarity(df, to_predict)\n",
    "df['similarity'] = similarities\n",
    "\n",
    "def similar_appartement(index):\n",
    "    \n",
    "    similare_att =appartements[appartements.index==index]\n",
    "    return similare_att"
   ]
  },
  {
   "cell_type": "code",
   "execution_count": 548,
   "metadata": {},
   "outputs": [
    {
     "name": "stdout",
     "output_type": "stream",
     "text": [
      "you can visit recommended apartment from this link:\n",
      "https://www.mubawab.ma/fr/a/7779889/appartement-%C3%A0-vendre-%C3%A0-bd-derfoufi-3-chambres-meubl%C3%A9\n",
      "====================================================\n"
     ]
    }
   ],
   "source": [
    "\n",
    "i =1\n",
    "\n",
    "for index in df['similarity'].sort_values(ascending=False).index[:2000]:\n",
    "    similare_att = similar_appartement(index)\n",
    "    predected_price = to_predict['prix(DHs)'].values[0]\n",
    "    recommanded_price = float(similare_att['prix(DHs)'].values[0].replace(' DH','').replace(' EUR',''))\n",
    "\n",
    "    price_difference = (abs(predected_price - recommanded_price))<150000\n",
    "\n",
    "        \n",
    "    if price_difference:\n",
    "        print(f\"you can visit recommended apartment from this link:\\n{similare_att['lienArticle'].iloc[0]}\")\n",
    "        print(\"====================================================\")\n",
    "        break\n"
   ]
  },
  {
   "cell_type": "code",
   "execution_count": 549,
   "metadata": {},
   "outputs": [],
   "source": [
    "\n",
    "# price_difference\n",
    "\n"
   ]
  },
  {
   "cell_type": "code",
   "execution_count": 550,
   "metadata": {},
   "outputs": [
    {
     "data": {
      "text/html": [
       "<div>\n",
       "<style scoped>\n",
       "    .dataframe tbody tr th:only-of-type {\n",
       "        vertical-align: middle;\n",
       "    }\n",
       "\n",
       "    .dataframe tbody tr th {\n",
       "        vertical-align: top;\n",
       "    }\n",
       "\n",
       "    .dataframe thead th {\n",
       "        text-align: right;\n",
       "    }\n",
       "</style>\n",
       "<table border=\"1\" class=\"dataframe\">\n",
       "  <thead>\n",
       "    <tr style=\"text-align: right;\">\n",
       "      <th></th>\n",
       "      <th>surface(m²)</th>\n",
       "      <th>pieces</th>\n",
       "      <th>chambres</th>\n",
       "      <th>salles de bains</th>\n",
       "      <th>etat</th>\n",
       "      <th>etage</th>\n",
       "      <th>ans</th>\n",
       "      <th>ville</th>\n",
       "      <th>autre</th>\n",
       "      <th>prix(DHs)</th>\n",
       "      <th>lienImage</th>\n",
       "      <th>lienArticle</th>\n",
       "    </tr>\n",
       "  </thead>\n",
       "  <tbody>\n",
       "    <tr>\n",
       "      <th>7745</th>\n",
       "      <td>119 m²</td>\n",
       "      <td>8 Pièces</td>\n",
       "      <td>3 Chambres</td>\n",
       "      <td>2 Salles de bains</td>\n",
       "      <td>Bon état</td>\n",
       "      <td>2ème\\n\\t\\t\\t\\t\\tétage</td>\n",
       "      <td>1-5 ans</td>\n",
       "      <td>Bd Derfoufi à Oujda</td>\n",
       "      <td>Orientation:  Nord  Garage Ascenseur Concierg...</td>\n",
       "      <td>910000 DH</td>\n",
       "      <td>https://www.mubawab-media.com/ad/7/779/889F/h/...</td>\n",
       "      <td>https://www.mubawab.ma/fr/a/7779889/appartemen...</td>\n",
       "    </tr>\n",
       "  </tbody>\n",
       "</table>\n",
       "</div>"
      ],
      "text/plain": [
       "     surface(m²)    pieces    chambres    salles de bains      etat  \\\n",
       "7745      119 m²  8 Pièces  3 Chambres  2 Salles de bains  Bon état   \n",
       "\n",
       "                      etage      ans                ville  \\\n",
       "7745  2ème\\n\\t\\t\\t\\t\\tétage  1-5 ans  Bd Derfoufi à Oujda   \n",
       "\n",
       "                                                  autre  prix(DHs)  \\\n",
       "7745   Orientation:  Nord  Garage Ascenseur Concierg...  910000 DH   \n",
       "\n",
       "                                              lienImage  \\\n",
       "7745  https://www.mubawab-media.com/ad/7/779/889F/h/...   \n",
       "\n",
       "                                            lienArticle  \n",
       "7745  https://www.mubawab.ma/fr/a/7779889/appartemen...  "
      ]
     },
     "execution_count": 550,
     "metadata": {},
     "output_type": "execute_result"
    }
   ],
   "source": [
    "similare_att"
   ]
  },
  {
   "cell_type": "code",
   "execution_count": 551,
   "metadata": {},
   "outputs": [
    {
     "data": {
      "text/plain": [
       "0.9999999999942908"
      ]
     },
     "execution_count": 551,
     "metadata": {},
     "output_type": "execute_result"
    }
   ],
   "source": [
    "df['similarity'].max()"
   ]
  },
  {
   "cell_type": "code",
   "execution_count": null,
   "metadata": {},
   "outputs": [],
   "source": []
  },
  {
   "cell_type": "code",
   "execution_count": 552,
   "metadata": {},
   "outputs": [
    {
     "data": {
      "text/plain": [
       "1to5           0.72\n",
       "porte          0.72\n",
       "sécurité       0.69\n",
       "salon          0.69\n",
       "équipée        0.68\n",
       "cuisine        0.68\n",
       "terrasse       0.67\n",
       "concierge      0.64\n",
       "ascenseur      0.62\n",
       "extérieure     0.60\n",
       "façade         0.60\n",
       "bonétat        0.53\n",
       "1etage         0.50\n",
       "nouveau        0.48\n",
       "carrelage      0.42\n",
       "5to10          0.36\n",
       "prix(DHs)      0.00\n",
       "surface(m²)    0.00\n",
       "oujda          0.00\n",
       "pieces         0.00\n",
       "dtype: float64"
      ]
     },
     "execution_count": 552,
     "metadata": {},
     "output_type": "execute_result"
    }
   ],
   "source": [
    "((df==0).sum()/df.shape[0]).sort_values(ascending=False)[225:245]"
   ]
  },
  {
   "cell_type": "code",
   "execution_count": null,
   "metadata": {},
   "outputs": [],
   "source": []
  },
  {
   "cell_type": "code",
   "execution_count": 553,
   "metadata": {},
   "outputs": [
    {
     "data": {
      "text/plain": [
       "'similarity'"
      ]
     },
     "execution_count": 553,
     "metadata": {},
     "output_type": "execute_result"
    }
   ],
   "source": [
    "df.columns[-1]"
   ]
  },
  {
   "cell_type": "code",
   "execution_count": 554,
   "metadata": {},
   "outputs": [
    {
     "data": {
      "text/plain": [
       "Series([], Name: tanger, dtype: float64)"
      ]
     },
     "execution_count": 554,
     "metadata": {},
     "output_type": "execute_result"
    }
   ],
   "source": [
    "df[df['tanger']!=0]['tanger']"
   ]
  },
  {
   "cell_type": "code",
   "execution_count": null,
   "metadata": {},
   "outputs": [],
   "source": []
  }
 ],
 "metadata": {
  "kernelspec": {
   "display_name": "Python 3 (ipykernel)",
   "language": "python",
   "name": "python3"
  },
  "language_info": {
   "codemirror_mode": {
    "name": "ipython",
    "version": 3
   },
   "file_extension": ".py",
   "mimetype": "text/x-python",
   "name": "python",
   "nbconvert_exporter": "python",
   "pygments_lexer": "ipython3",
   "version": "3.12.2"
  }
 },
 "nbformat": 4,
 "nbformat_minor": 2
}
